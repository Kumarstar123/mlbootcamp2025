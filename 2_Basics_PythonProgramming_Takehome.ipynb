{
  "nbformat": 4,
  "nbformat_minor": 0,
  "metadata": {
    "colab": {
      "provenance": [],
      "include_colab_link": true
    },
    "kernelspec": {
      "name": "python3",
      "display_name": "Python 3"
    },
    "language_info": {
      "name": "python"
    }
  },
  "cells": [
    {
      "cell_type": "markdown",
      "metadata": {
        "id": "view-in-github",
        "colab_type": "text"
      },
      "source": [
        "<a href=\"https://colab.research.google.com/github/Kumarstar123/mlbootcamp2025/blob/main/2_Basics_PythonProgramming_Takehome.ipynb\" target=\"_parent\"><img src=\"https://colab.research.google.com/assets/colab-badge.svg\" alt=\"Open In Colab\"/></a>"
      ]
    },
    {
      "cell_type": "markdown",
      "source": [
        "# Personal Finance 101 with Python\n",
        "\n",
        "- Investing is crucial for wealth growth, financial security, and achieving long-term financial goals.\n",
        "- One of the biggest reasons to invest is the power of compounding, which allows your money to grow exponentially over time."
      ],
      "metadata": {
        "id": "BGhlVvcyZGWp"
      }
    },
    {
      "cell_type": "markdown",
      "source": [
        "### Understanding the Compounding Effect\n",
        "\n",
        "$$ A = P * \\left( 1 + \\frac{r}{n} \\right) ^{n*t}$$\n",
        "\n",
        "Where,\n",
        "\n",
        "- A  = Final amount\n",
        "- P  = Principal (initial investment)\n",
        "- r  = Annual interest rate (as a decimal)\n",
        "- n  = Times interest is compounded per year\n",
        "- t  = Time in years\n"
      ],
      "metadata": {
        "id": "zyYa0RR2L_8n"
      }
    },
    {
      "cell_type": "code",
      "execution_count": 33,
      "metadata": {
        "id": "XrEjSeR5UQVl",
        "colab": {
          "base_uri": "https://localhost:8080/"
        },
        "outputId": "9abe1d9c-2066-4c55-e6ae-663157ca7a35"
      },
      "outputs": [
        {
          "output_type": "stream",
          "name": "stdout",
          "text": [
            "Compound Interest Calculator Results:\n",
            "Principal Amount: $1000.00\n",
            "Annual Interest Rate: 6.00%\n",
            "Compounding Frequency: 1 times per year\n",
            "Number of Years: 10\n",
            "Total Amount: $1790.85\n",
            "Total Interest Earned: $790.85\n"
          ]
        }
      ],
      "source": [
        "#@title Compound Interest Calculator\n",
        "\n",
        "#@markdown Enter the principal amount (P in $):\n",
        "principal = 1000 #@param {type:\"number\"}\n",
        "\n",
        "#@markdown Enter the annual interest rate as a percentage (r):\n",
        "interest_rate = 6 #@param {type:\"number\"}\n",
        "\n",
        "#@markdown Enter the number of times interest is compounded per year (n):\n",
        "compounding_frequency = 1 #@param {type:\"number\"}\n",
        "\n",
        "#@markdown Enter the number of years (t):\n",
        "years = 10 #@param {type:\"number\"}\n",
        "\n",
        "\n",
        "# Calculate compound interest\n",
        "# 1. Convert percentage into decimal\n",
        "interest_rate_decimal = 0.06 # 6% = 0.06\n",
        "\n",
        "\n",
        "# 2. Calculate the final amount (A)\n",
        "final_amount = principal * (1+ (interest_rate_decimal/compounding_frequency) ) ** (compounding_frequency * years)\n",
        "\n",
        "\n",
        "# 3. Calculate the total interest earned\n",
        "total_interest = final_amount - principal\n",
        "\n",
        "\n",
        "# Display the results\n",
        "print(\"Compound Interest Calculator Results:\")\n",
        "print(f\"Principal Amount: ${principal:.2f}\")\n",
        "print(f\"Annual Interest Rate: {interest_rate:.2f}%\")\n",
        "print(f\"Compounding Frequency: {compounding_frequency} times per year\")\n",
        "print(f\"Number of Years: {years}\")\n",
        "print(f\"Total Amount: ${final_amount:.2f}\")\n",
        "print(f\"Total Interest Earned: ${total_interest:.2f}\")\n"
      ]
    },
    {
      "cell_type": "markdown",
      "source": [
        "\n",
        "### Effect of starting principal (P)\n",
        "\n",
        "Write a function to calculate total amount and total interest earned for starting principal (P in $): 10, 50, 100, 500 and 1000. Assume r=5%, n=1 and t=5.\n",
        "\n",
        "Hint: Iterate over a list data structure containing 'P' values using a compound interest calculator function"
      ],
      "metadata": {
        "id": "ScJlnZfEbTUH"
      }
    },
    {
      "cell_type": "code",
      "source": [
        "# A = Final amount\n",
        "# P = Principal (initial investment)\n",
        "# r = Annual interest rate (as a decimal)\n",
        "# n = Times interest is compounded per year\n",
        "# t = Time in years\n",
        "\n",
        "# A = P∗(1+r/n)**(n∗t)\n",
        "\n",
        "# Calculate the effect of starting principal (more 'P')\n",
        "\n",
        "# this function will calculate total amount for different Principal values (P) given fixed r, n, t values\n",
        "# this will be void function\n",
        "def calcTotalAmount():\n",
        "\n",
        "  # Lists: Ordered, mutable sequences of items. Can contain different values of different datatypes (not recommended practice though!)\n",
        "  principalList = [10, 50, 100, 500, 1000]\n",
        "\n",
        "  interestRateDecimal = 0.05 # r, float\n",
        "  compoundingFrequency = 1 # n, int\n",
        "  years = 5 # t, int\n",
        "\n",
        "  finalAmount = 0.0 # float\n",
        "\n",
        "  for num in principalList:\n",
        "    finalAmount = num * (1 + (interestRateDecimal/compoundingFrequency))**(compoundingFrequency*years)\n",
        "    #print(\"finalAmount = \", finalAmount, \"for P = \", num)\n",
        "    print(f\"Total Amount Earned: ${finalAmount:.2f} when num is: {num}\")\n",
        "\n",
        "    totalInterest = calcTotalInterest(finalAmount, num)\n",
        "    print(f\"Total Interest Earned: ${totalInterest:.2f} when num is: {num}\")\n",
        "    print()\n",
        "\n",
        "# this function will calculate total interest for different Principal values (P) given fixed r, n, t values\n",
        "# it will return a float value\n",
        "def calcTotalInterest(finalAmount, principalValue):\n",
        "  return (finalAmount - principalValue)\n",
        "\n",
        "calcTotalAmount() # call the function\n"
      ],
      "metadata": {
        "id": "MICZ2cnDbrZg",
        "colab": {
          "base_uri": "https://localhost:8080/"
        },
        "outputId": "b33de650-67d8-4a7e-81dc-97c7c255faf7"
      },
      "execution_count": 34,
      "outputs": [
        {
          "output_type": "stream",
          "name": "stdout",
          "text": [
            "Total Amount Earned: $12.76 when num is: 10\n",
            "Total Interest Earned: $2.76 when num is: 10\n",
            "\n",
            "Total Amount Earned: $63.81 when num is: 50\n",
            "Total Interest Earned: $13.81 when num is: 50\n",
            "\n",
            "Total Amount Earned: $127.63 when num is: 100\n",
            "Total Interest Earned: $27.63 when num is: 100\n",
            "\n",
            "Total Amount Earned: $638.14 when num is: 500\n",
            "Total Interest Earned: $138.14 when num is: 500\n",
            "\n",
            "Total Amount Earned: $1276.28 when num is: 1000\n",
            "Total Interest Earned: $276.28 when num is: 1000\n",
            "\n"
          ]
        }
      ]
    },
    {
      "cell_type": "markdown",
      "source": [
        "#### Write a simple conclusion on what the effect of starting principal (more 'P') is on a compounding interest investment?"
      ],
      "metadata": {
        "id": "BIcD3dEecSpq"
      }
    },
    {
      "cell_type": "code",
      "source": [
        "#   When P (starting principal) is more/is larger, the Total Amount Earned will also be more!"
      ],
      "metadata": {
        "id": "gCpivos6chhj"
      },
      "execution_count": 35,
      "outputs": []
    },
    {
      "cell_type": "markdown",
      "source": [
        "### Effect of starting early (more years of investing = more 't')\n",
        "\n",
        "Reuse the compounding interest calculator function above and determine the effect of more years of investing 't': 2yrs, 5yrs, 10yrs, 20yrs, 30yrs. Assume P=\\$100, r=5% and n=1."
      ],
      "metadata": {
        "id": "3Zi_t5Ftcsw1"
      }
    },
    {
      "cell_type": "code",
      "source": [
        "# Calculate the effect of starting early (more 't')\n",
        "\n",
        "# A = Final amount\n",
        "# P = Principal (initial investment)\n",
        "# r = Annual interest rate (as a decimal)\n",
        "# n = Times interest is compounded per year\n",
        "# t = Time in years\n",
        "\n",
        "# A = P∗(1+r/n)**(n∗t)\n",
        "\n",
        "# this function will calculate total amount for different Time values (t) given fixed r, n, p values\n",
        "# this will be void function\n",
        "def calcTotalAmount():\n",
        "\n",
        "  # Lists: Ordered, mutable sequences of items. Can contain different values of different datatypes (not recommended practice though!)\n",
        "  timeList = [2, 5, 10, 20, 30]\n",
        "\n",
        "  principalValue = 100 # P, int\n",
        "  interestRateDecimal = 0.05 # r, float\n",
        "  compoundingFrequency = 1 # n, int\n",
        "\n",
        "  finalAmount = 0.0 # float\n",
        "\n",
        "  for numYears in timeList:\n",
        "    finalAmount = principalValue * (1 + (interestRateDecimal/compoundingFrequency))**(compoundingFrequency*numYears)\n",
        "    #print(\"finalAmount = \", finalAmount, \"for P = \", num)\n",
        "    print(f\"Total Amount Earned: ${finalAmount:.2f} when numYears is: {numYears}\")\n",
        "\n",
        "    totalInterest = calcTotalInterest(finalAmount, principalValue)\n",
        "    print(f\"Total Interest Earned: ${totalInterest:.2f} when numYears is: {numYears}\")\n",
        "    print()\n",
        "\n",
        "# this function will calculate total interest earned for different Time values (t) given fixed r, n, p values\n",
        "# it will return a float value\n",
        "def calcTotalInterest(finalAmount, principalValue):\n",
        "  return (finalAmount - principalValue)\n",
        "\n",
        "calcTotalAmount() # call the function\n"
      ],
      "metadata": {
        "id": "a5jHCG7NdcBf",
        "colab": {
          "base_uri": "https://localhost:8080/"
        },
        "outputId": "c491ca4e-736c-4438-bb36-4cd6b003d022"
      },
      "execution_count": 36,
      "outputs": [
        {
          "output_type": "stream",
          "name": "stdout",
          "text": [
            "Total Amount Earned: $110.25 when numYears is: 2\n",
            "Total Interest Earned: $10.25 when numYears is: 2\n",
            "\n",
            "Total Amount Earned: $127.63 when numYears is: 5\n",
            "Total Interest Earned: $27.63 when numYears is: 5\n",
            "\n",
            "Total Amount Earned: $162.89 when numYears is: 10\n",
            "Total Interest Earned: $62.89 when numYears is: 10\n",
            "\n",
            "Total Amount Earned: $265.33 when numYears is: 20\n",
            "Total Interest Earned: $165.33 when numYears is: 20\n",
            "\n",
            "Total Amount Earned: $432.19 when numYears is: 30\n",
            "Total Interest Earned: $332.19 when numYears is: 30\n",
            "\n"
          ]
        }
      ]
    },
    {
      "cell_type": "markdown",
      "source": [
        "#### Write a simple conclusion on what the effect of starting early (more 't') is on a compounding interest investment?\n"
      ],
      "metadata": {
        "id": "dkDFHmiNdosi"
      }
    },
    {
      "cell_type": "code",
      "source": [
        "#   When T (time) is more/is larger, the Total Amount Earned will also be more!"
      ],
      "metadata": {
        "id": "Y4zQlr0SVGXV"
      },
      "execution_count": 37,
      "outputs": []
    },
    {
      "cell_type": "markdown",
      "source": [
        "### Effect of better rate of return (more 'r')\n",
        "\n",
        "Reuse the compounding interest calculator function above and determine the effect of better rate of return 'r': 2%, 5%, 8% and 10%. Assume P=$100, n=1 and t=5."
      ],
      "metadata": {
        "id": "b4HolM8adwzl"
      }
    },
    {
      "cell_type": "code",
      "source": [
        "# Calculate the effect of better rate of return (more 'r')\n",
        "\n",
        "# A = Final amount\n",
        "# P = Principal (initial investment)\n",
        "# r = Annual interest rate (as a decimal)\n",
        "# n = Times interest is compounded per year\n",
        "# t = Time in years\n",
        "\n",
        "# A = P∗(1+r/n)**(n∗t)\n",
        "\n",
        "# this function will calculate total amount for different rate values (r) given fixed r, n,t values\n",
        "# this will be void function\n",
        "def calcTotalAmount():\n",
        "\n",
        "  # Lists: Ordered, mutable sequences of items. Can contain different values of different datatypes (not recommended practice though!)\n",
        "  interestRateDecimalList = [0.02, 0.05, 0.08, 0.10]\n",
        "\n",
        "  principalValue = 100 # P, int\n",
        "  numYears = 5 # t, int\n",
        "  compoundingFrequency = 1 # n, int\n",
        "\n",
        "  finalAmount = 0.0 # float\n",
        "\n",
        "  for interestRate in interestRateDecimalList:\n",
        "    finalAmount = principalValue * (1 + (interestRate/compoundingFrequency))**(compoundingFrequency*numYears)\n",
        "    #print(\"finalAmount = \", finalAmount, \"for P = \", num)\n",
        "    print(f\"Total Amount Earned: ${finalAmount:.2f} when interestRate is: {interestRate}\")\n",
        "\n",
        "    totalInterest = calcTotalInterest(finalAmount, principalValue)\n",
        "    print(f\"Total Interest Earned: ${totalInterest:.2f} when interestRate is: {interestRate*100}%\")\n",
        "    print()\n",
        "\n",
        "# this function will calculate total interest earned for different Time values (t) given fixed r, n, p values\n",
        "# it will return a float value\n",
        "def calcTotalInterest(finalAmount, principalValue):\n",
        "  return (finalAmount - principalValue)\n",
        "\n",
        "calcTotalAmount() # call the function\n"
      ],
      "metadata": {
        "id": "pbcjQ24Kew56",
        "colab": {
          "base_uri": "https://localhost:8080/"
        },
        "outputId": "3a5c4cb1-a926-4f1a-f723-02b06f5f1669"
      },
      "execution_count": 38,
      "outputs": [
        {
          "output_type": "stream",
          "name": "stdout",
          "text": [
            "Total Amount Earned: $110.41 when interestRate is: 0.02\n",
            "Total Interest Earned: $10.41 when interestRate is: 2.0%\n",
            "\n",
            "Total Amount Earned: $127.63 when interestRate is: 0.05\n",
            "Total Interest Earned: $27.63 when interestRate is: 5.0%\n",
            "\n",
            "Total Amount Earned: $146.93 when interestRate is: 0.08\n",
            "Total Interest Earned: $46.93 when interestRate is: 8.0%\n",
            "\n",
            "Total Amount Earned: $161.05 when interestRate is: 0.1\n",
            "Total Interest Earned: $61.05 when interestRate is: 10.0%\n",
            "\n"
          ]
        }
      ]
    },
    {
      "cell_type": "markdown",
      "source": [
        "#### Write a simple conclusion on what the effect of better rate of return (more 'r') is on a compounding interest investment?"
      ],
      "metadata": {
        "id": "q5ihxgcKez4g"
      }
    },
    {
      "cell_type": "code",
      "source": [
        "# Higher interest rate means more total amount earned!"
      ],
      "metadata": {
        "id": "8eo7Vt2EHx6o"
      },
      "execution_count": 39,
      "outputs": []
    },
    {
      "cell_type": "markdown",
      "source": [
        "### What happens to a compounding interest investment if you also do recurring investment (adding fixed \\$ amount in a fixed time frequency into the principal 'P')"
      ],
      "metadata": {
        "id": "8RPUEsNYe7nw"
      }
    },
    {
      "cell_type": "code",
      "source": [
        "# Write a new python function that will also take a fixed recurring deposit 'rd' every month to calculate compounding interest\n",
        "\n",
        "# see below for cell code\n"
      ],
      "metadata": {
        "id": "PXVG53KdffHD"
      },
      "execution_count": 40,
      "outputs": []
    },
    {
      "cell_type": "markdown",
      "source": [
        "#### What is the effect of disciplined investing using recurring deposits?\n",
        "\n",
        "Use the new compounding interest calculator with recurring investment to calculate the effect of disciplined investing. Assume P=$100, r=5%, n=12 (monthly compounding), t=5.\n",
        "\n",
        "Calculate for different 'rd' (in $): 0, 1, 5, 10, 50, 100"
      ],
      "metadata": {
        "id": "WoKmXBp3gaeN"
      }
    },
    {
      "cell_type": "code",
      "source": [
        "# A = Final amount\n",
        "# P = Principal (initial investment)\n",
        "# r = Annual interest rate (as a decimal)\n",
        "# n = Times interest is compounded per year\n",
        "# t = Time in years\n",
        "\n",
        "# A = P∗(1+r/n)**(n∗t)\n",
        "\n",
        "# Write code to calculate the final_amount (A) for recurring deposits into monthly compounding investment\n",
        "\n",
        "\n",
        "# this function will calculate total amount for different Principal values (P) given fixed r, n, t values\n",
        "# this will be void function\n",
        "def calcTotalAmount():\n",
        "\n",
        "  # Lists: Ordered, mutable sequences of items. Can contain different values of different datatypes (not recommended practice though!)\n",
        "  rdList = [10, 50, 100, 500, 1000]\n",
        "\n",
        "  principalAmount = 100\n",
        "  interestRateDecimal = 0.05 # r, float\n",
        "  compoundingFrequency = 12 # n, int\n",
        "  years = 5 # t, int\n",
        "\n",
        "  finalAmount = 0.0 # float\n",
        "\n",
        "  for num in rdList:\n",
        "    principalAmount += num # recurring investment (I think)\n",
        "    finalAmount = principalAmount * (1 + (interestRateDecimal/compoundingFrequency))**(compoundingFrequency*years)\n",
        "    #print(\"finalAmount = \", finalAmount, \"for P = \", num)\n",
        "    print(f\"Total Amount Earned: ${finalAmount:.2f} when num is: {num}\")\n",
        "\n",
        "    totalInterest = calcTotalInterest(finalAmount, num)\n",
        "    print(f\"Total Interest Earned: ${totalInterest:.2f} when num is: {num}\")\n",
        "    print()\n",
        "\n",
        "# this function will calculate total interest for different Principal values (P) given fixed r, n, t values\n",
        "# it will return a float value\n",
        "def calcTotalInterest(finalAmount, principalValue):\n",
        "  return (finalAmount - principalValue)\n",
        "\n",
        "calcTotalAmount() # call the function\n"
      ],
      "metadata": {
        "id": "gz8NLxgzhHlU",
        "colab": {
          "base_uri": "https://localhost:8080/"
        },
        "outputId": "163f846b-44a1-4a10-9adb-6dbfb7647ffd"
      },
      "execution_count": 41,
      "outputs": [
        {
          "output_type": "stream",
          "name": "stdout",
          "text": [
            "Total Amount Earned: $141.17 when num is: 10\n",
            "Total Interest Earned: $131.17 when num is: 10\n",
            "\n",
            "Total Amount Earned: $205.34 when num is: 50\n",
            "Total Interest Earned: $155.34 when num is: 50\n",
            "\n",
            "Total Amount Earned: $333.67 when num is: 100\n",
            "Total Interest Earned: $233.67 when num is: 100\n",
            "\n",
            "Total Amount Earned: $975.35 when num is: 500\n",
            "Total Interest Earned: $475.35 when num is: 500\n",
            "\n",
            "Total Amount Earned: $2258.71 when num is: 1000\n",
            "Total Interest Earned: $1258.71 when num is: 1000\n",
            "\n"
          ]
        }
      ]
    },
    {
      "cell_type": "markdown",
      "source": [
        "#### Write a simple conclusion on what is the effect of disciplined investing using recurring deposits?"
      ],
      "metadata": {
        "id": "HzaDkeEmhRTd"
      }
    },
    {
      "cell_type": "code",
      "source": [
        "# Using recurring deposits, you get more money on return!"
      ],
      "metadata": {
        "id": "wHXhzRtgDGWf"
      },
      "execution_count": 42,
      "outputs": []
    },
    {
      "cell_type": "markdown",
      "source": [
        "### What problems/decisions that you face in life can be solved using basic Python programming? Share atleast two ideas.\n",
        "\n",
        "\n"
      ],
      "metadata": {
        "id": "V1SICqGdi3bu"
      }
    },
    {
      "cell_type": "markdown",
      "source": [],
      "metadata": {
        "id": "3XOl7G3tDfEL"
      }
    },
    {
      "cell_type": "code",
      "source": [
        "# 1) Finding the meaning of life\n",
        "# 2) Task/List manager (just displaying to-do list for day)"
      ],
      "metadata": {
        "id": "Wg8EGvf5DNjz"
      },
      "execution_count": 43,
      "outputs": []
    },
    {
      "cell_type": "markdown",
      "source": [
        "# Final Retrospection:\n",
        "### What challenges did you face while programming with Python?\n",
        "\n",
        "\n",
        "\n",
        "### How did you overcome those challenges?\n",
        "\n",
        "\n",
        "\n",
        "### Mention other resources you used to solve this take-home assignment\n",
        "\n",
        "\n",
        "\n",
        "### Did you use any tools (like ChatGPT) to solve the issues? What are the challenges and opportunities?\n",
        "\n",
        "\n",
        "\n",
        "### After this exercise, are you feeling excited to learn more?\n",
        "\n",
        "\n",
        "\n",
        "\n",
        "NOTE: Save the file with your code and text answers before committing it to your new GitHub public repository. Send a link to your file on Github to the TA."
      ],
      "metadata": {
        "id": "gnnYEjdqhh7f"
      }
    },
    {
      "cell_type": "code",
      "source": [
        "# 1) Not too much for this assignment, mostly just some small syntax clarifications here and there\n",
        "# 2) I used looked up the proper syntax for a quick refresher\n",
        "# 3) Some websites on google (common ones that relate to these topics)\n",
        "# 4) No, but I researched what an recurring invesment was outisde of what was provided in this Juypter notebook\n",
        "# 5) Yes!! Looking forward to getting some experience with more complex (and cooler) ideas/topics!"
      ],
      "metadata": {
        "id": "_sRHiLyfG__k"
      },
      "execution_count": 44,
      "outputs": []
    }
  ]
}